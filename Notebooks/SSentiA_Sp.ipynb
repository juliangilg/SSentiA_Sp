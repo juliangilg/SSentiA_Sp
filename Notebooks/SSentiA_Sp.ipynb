{
 "cells": [
  {
   "cell_type": "markdown",
   "metadata": {},
   "source": [
    "# Demo for SSentiA_Sp model"
   ]
  },
  {
   "cell_type": "code",
   "execution_count": 1,
   "metadata": {},
   "outputs": [],
   "source": [
    "import pandas as pd\n",
    "import numpy as np\n",
    "import sys\n",
    "import csv\n",
    "\n",
    "sys.path.append('../Model')\n",
    "from LRsentiA_Sp import LexicalAnalyzer\n",
    "from SSentiA_Sp import sSentiA_Sp"
   ]
  },
  {
   "cell_type": "markdown",
   "metadata": {},
   "source": [
    "## 1. loading the data\n",
    " "
   ]
  },
  {
   "cell_type": "code",
   "execution_count": 2,
   "metadata": {},
   "outputs": [],
   "source": [
    "DataName = 'Data_Paper_Sp'\n",
    "path = '../Data/' + DataName + '.xlsx'\n",
    "\n",
    "Data = pd.read_excel(path)\n",
    "numpy_array = Data.values\n",
    "X = numpy_array[:,0]\n",
    "Y = np.asarray(numpy_array[:,1])\n",
    "\n",
    "X = X[Y != 0]\n",
    "Y = Y[Y != 0]\n",
    "Y[Y == -1] = 0"
   ]
  },
  {
   "cell_type": "markdown",
   "metadata": {},
   "source": [
    "## 2. Applying LRsentiA"
   ]
  },
  {
   "cell_type": "code",
   "execution_count": 3,
   "metadata": {},
   "outputs": [
    {
     "name": "stdout",
     "output_type": "stream",
     "text": [
      "---- 0.6058 0.5362 0.5689 0.4884\n",
      "$$$$\n",
      "0.5269120812242206 0.7070762410300839\n",
      "Bin Threshold 0.7070762410300839 0.5269120812242206 0.34674792141835725 0.0001\n",
      "---->>>  43 43\n"
     ]
    }
   ],
   "source": [
    "r = LexicalAnalyzer(DataName)\n",
    "predictions, pred_confidence_scores = r.classify_binary_dataset(X,Y)\n",
    "df1, df2, df3, df4, df5 = r.distribute_predictions_into_bins(X,Y,predictions, pred_confidence_scores)"
   ]
  },
  {
   "cell_type": "markdown",
   "metadata": {},
   "source": [
    "## 3. SSentiA_Sp"
   ]
  },
  {
   "cell_type": "code",
   "execution_count": 4,
   "metadata": {},
   "outputs": [
    {
     "name": "stdout",
     "output_type": "stream",
     "text": [
      "--- 17\n",
      "..\n",
      "Bin-3 Results\n",
      "Total:  nan 0.5 nan 0.2222\n",
      "..\n",
      "Bin-4results\n",
      "F1:  nan 0.5 nan 0.3636\n",
      "Bin 5 results\n",
      "F1:  nan 0.5 nan 0.3333\n",
      "\n",
      "Overall Predcition of SSSentiA\n",
      "Overall:  0.7262 0.5208 0.6066 0.4651\n"
     ]
    }
   ],
   "source": [
    "s = sSentiA_Sp()\n",
    "s.apply_SSSentiA(df1, df2, df3, df4, df5)"
   ]
  }
 ],
 "metadata": {
  "kernelspec": {
   "display_name": "Python 3 (ipykernel)",
   "language": "python",
   "name": "python3"
  },
  "language_info": {
   "codemirror_mode": {
    "name": "ipython",
    "version": 3
   },
   "file_extension": ".py",
   "mimetype": "text/x-python",
   "name": "python",
   "nbconvert_exporter": "python",
   "pygments_lexer": "ipython3",
   "version": "3.9.7"
  }
 },
 "nbformat": 4,
 "nbformat_minor": 4
}
